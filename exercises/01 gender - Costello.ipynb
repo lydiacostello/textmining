{
 "cells": [
  {
   "cell_type": "markdown",
   "metadata": {},
   "source": [
    "# Parsing gendered text\n",
    "\n",
    "Implement the `parse_gender` function as described on pp. 10-12 of the textbook. Run the function over the three texts indicated below and comment (briefly) on the results.\n",
    "\n",
    "Starter code is included below. When finished, commit your code and issue a pull request to me."
   ]
  },
  {
   "cell_type": "code",
   "execution_count": 32,
   "metadata": {},
   "outputs": [],
   "source": [
    "# Imports\n",
    "import nltk\n",
    "import os\n",
    "from collections import Counter\n",
    "\n",
    "# Variables\n",
    "text_dir = os.path.join('..', 'data', 'texts') # Where are the texts?\n",
    "texts = [\n",
    "    'A-Alcott-Little_Women-1868-F.txt', # _Little Women_\n",
    "    'A-Twain-Huck_Finn-1885-M.txt',     # _Huck Finn_\n",
    "    'B-Eliot-Middlemarch-1869-F.txt'    # _Middlemarch_\n",
    "]"
   ]
  },
  {
   "cell_type": "code",
   "execution_count": 33,
   "metadata": {},
   "outputs": [],
   "source": [
    "# Word lists\n",
    "MALE = 'male'\n",
    "FEMALE = 'female'\n",
    "UNKNOWN = 'unknown'\n",
    "BOTH = 'both'\n",
    "\n",
    "MALE_WORDS = set([\n",
    "    'guy','spokesman','chairman',\"men's\",'men','him',\"he's\",'his',\n",
    "    'boy','boyfriend','boyfriends','boys','brother','brothers','dad',\n",
    "    'dads','dude','father','fathers','fiance','gentleman','gentlemen',\n",
    "    'god','grandfather','grandpa','grandson','groom','he','himself',\n",
    "    'husband','husbands','king','male','man','mr','nephew','nephews',\n",
    "    'priest','prince','son','sons','uncle','uncles','waiter','widower',\n",
    "    'widowers'\n",
    "])\n",
    "\n",
    "FEMALE_WORDS = set([\n",
    "    'heroine','spokeswoman','chairwoman',\"women's\",'actress','women',\n",
    "    \"she's\",'her','aunt','aunts','bride','daughter','daughters','female',\n",
    "    'fiancee','girl','girlfriend','girlfriends','girls','goddess',\n",
    "    'granddaughter','grandma','grandmother','herself','ladies','lady',\n",
    "    'lady','mom','moms','mother','mothers','mrs','ms','niece','nieces',\n",
    "    'priestess','princess','queens','she','sister','sisters','waitress',\n",
    "    'widow','widows','wife','wives','woman'\n",
    "])"
   ]
  },
  {
   "cell_type": "code",
   "execution_count": 34,
   "metadata": {},
   "outputs": [],
   "source": [
    "def genderize(words):\n",
    "\n",
    "    mwlen = len(MALE_WORDS.intersection(words))\n",
    "    fwlen = len(FEMALE_WORDS.intersection(words))\n",
    "    \n",
    "    if mwlen > 0 and fwlen == 0:\n",
    "        return MALE\n",
    "    elif mwlen == 0 and fwlen > 0:\n",
    "        return FEMALE\n",
    "    elif mwlen > 0 and fwlen > 0:\n",
    "        return BOTH\n",
    "    else:\n",
    "        return UNKNOWN\n",
    "    "
   ]
  },
  {
   "cell_type": "code",
   "execution_count": 35,
   "metadata": {},
   "outputs": [],
   "source": [
    "def count_gender(sentences):\n",
    "    \n",
    "    sents = Counter()\n",
    "    words = Counter ()\n",
    "    \n",
    "    for sentence in sentences:\n",
    "        gender = genderize(sentence)\n",
    "        sents[gender] += 1\n",
    "        words[gender] += len(sentence)\n",
    "        \n",
    "    return sents, words"
   ]
  },
  {
   "cell_type": "code",
   "execution_count": 58,
   "metadata": {},
   "outputs": [],
   "source": [
    "def parse_gender(text):\n",
    "    \n",
    "    sentences = [\n",
    "        [word.lower() for word in nltk.word_tokenize(sentence)]\n",
    "        for sentence in nltk.sent_tokenize(text)\n",
    "    ]\n",
    "    \n",
    "    sents, words = count_gender(sentences)\n",
    "    total = sum(words.values())\n",
    "    \n",
    "    for gender, count in words.items():\n",
    "        pcent = (count / total) * 100\n",
    "        nsents = sents[gender]\n",
    "        \n",
    "        print(\n",
    "            \"{0:0.3f}% {1:} ({2:} sentences)\".format(pcent, gender, nsents)\n",
    "        )\n",
    "        "
   ]
  },
  {
   "cell_type": "code",
   "execution_count": 59,
   "metadata": {},
   "outputs": [
    {
     "name": "stdout",
     "output_type": "stream",
     "text": [
      "32.575% unknown (4539 sentences)\n",
      "33.212% female (2504 sentences)\n",
      "17.909% both (1010 sentences)\n",
      "16.305% male (1393 sentences)\n",
      "47.037% unknown (3576 sentences)\n",
      "36.356% male (1650 sentences)\n",
      "9.556% female (415 sentences)\n",
      "7.051% both (185 sentences)\n",
      "36.999% male (4558 sentences)\n",
      "19.872% both (1880 sentences)\n",
      "28.951% unknown (6528 sentences)\n",
      "14.177% female (1917 sentences)\n"
     ]
    }
   ],
   "source": [
    "# Run and examine the output\n",
    "for text in texts: # Loop over texts in corpus directory\n",
    "    with open(os.path.join(text_dir, text), 'r') as f: # Open each text in turn\n",
    "        parse_gender(f.read()) # Run the gender-parsing function"
   ]
  },
  {
   "cell_type": "markdown",
   "metadata": {},
   "source": [
    "## Discussion\n",
    "\n",
    "The results of the parse_gender function did not surprise me given the thematic material of the texts. Little Women in comparison to Huck Finn has a larger number of female characters and the plot itself is more centered on the relationships between the March sisters, so the 33.212% portion of the text coded as 'female'follows. Huck Finn in comparison has a smaller proportion of female characters and deals with masculine themes, so the 36.356% portion of the text coded as 'male' additionally follows. Finally, Middlemarch is a much more balanced text that features an intersecting cast of both female and male characters, so the large proportion of the (28.951%) being coded as 'unknown' makes sense given the background of the cast."
   ]
  },
  {
   "cell_type": "markdown",
   "metadata": {},
   "source": []
  }
 ],
 "metadata": {
  "kernelspec": {
   "display_name": "Python 3",
   "language": "python",
   "name": "python3"
  },
  "language_info": {
   "codemirror_mode": {
    "name": "ipython",
    "version": 3
   },
   "file_extension": ".py",
   "mimetype": "text/x-python",
   "name": "python",
   "nbconvert_exporter": "python",
   "pygments_lexer": "ipython3",
   "version": "3.7.1"
  }
 },
 "nbformat": 4,
 "nbformat_minor": 2
}
