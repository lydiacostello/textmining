{
 "cells": [
  {
   "cell_type": "markdown",
   "metadata": {},
   "source": [
    "# Classification\n",
    "\n",
    "Implement the textbook's system for supervised learning, modifying as needed to run on our literary corpus. Classify the novels as authored by either British/American or female/male writers. Assess the accuracy of the results.\n",
    "\n",
    "As an optional challenge, see what you can do to speed up the system and/or to get better classification accuracy. In general, this will mean using different classifiers and/or other methods in the pipeline, though it could involve some additional feature engineering as well.\n",
    "\n",
    "You can find the textbook's code via its [GitHub repo](https://github.com/foxbook/atap). You're free to copy what you need, but be aware that you'll need to make some changes to work with our data (not least, to use our corpus readers from problem sets 3/4). As ever, make sur eyou understand what the supplied code is doing. You can only modifiy it if you have a strong sense of how it works."
   ]
  },
  {
   "cell_type": "markdown",
   "metadata": {},
   "source": [
    "## Code"
   ]
  },
  {
   "cell_type": "code",
   "execution_count": 1,
   "metadata": {},
   "outputs": [],
   "source": [
    "## Your code here"
   ]
  },
  {
   "cell_type": "markdown",
   "metadata": {},
   "source": [
    "## Analysis\n",
    "\n",
    "Offer a brief set of observations on the system you've built. Does it perform well? How so? How not? What would you try to change in order to make it better (for whatever definitions of \"better\" seem appropriate to you)?"
   ]
  },
  {
   "cell_type": "markdown",
   "metadata": {},
   "source": []
  }
 ],
 "metadata": {
  "kernelspec": {
   "display_name": "Python 3",
   "language": "python",
   "name": "python3"
  },
  "language_info": {
   "codemirror_mode": {
    "name": "ipython",
    "version": 3
   },
   "file_extension": ".py",
   "mimetype": "text/x-python",
   "name": "python",
   "nbconvert_exporter": "python",
   "pygments_lexer": "ipython3",
   "version": "3.7.1"
  }
 },
 "nbformat": 4,
 "nbformat_minor": 2
}
