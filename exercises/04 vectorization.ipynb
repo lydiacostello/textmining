{
 "cells": [
  {
   "cell_type": "markdown",
   "metadata": {},
   "source": [
    "# Vectorization\n",
    "\n",
    "## Background\n",
    "\n",
    "We've already seen several versions of how to tranform a corpus into a matrix representation. There's code to do it from start to finish in [notebook 04](https://github.com/wilkens-teaching/textmining/blob/master/notebooks/04%20Vectorization.ipynb). Your task in this assignment is to make sure you can perform vectorization using Scikit-learn and to explore the effects of different vectorization options.\n",
    "\n",
    "## The basics\n",
    "\n",
    "First, adapt the code toward the end of in-class notebook 04 (link above, see code under the heading \"Sklearn and visualize\") to carry out very basic vectorization of our literary corpus using `TfidfVectorizer` with **default** settings. Visualize your results as demonstrated (without colorization by class). \n",
    "\n",
    "Note that the code in the demo notebook **does not** use the default settings. Modify it so that it does. You'll also need to specify the appropriate imports and file locations, of course. Your output should look like this, assuming you copy over the plotting settings from the demo:\n",
    "\n",
    "![Basic vectorization result](../data/images/ps04-vectors.png)"
   ]
  },
  {
   "cell_type": "code",
   "execution_count": null,
   "metadata": {},
   "outputs": [],
   "source": [
    "# Your code here"
   ]
  },
  {
   "cell_type": "markdown",
   "metadata": {},
   "source": [
    "## Color by class label\n",
    "\n",
    "Again adapting the demo code, generate a plot of the vectorized data that colors the individual points by the nation and gender to which they belong. To be clear, you'll make single plot with four colors (for classes 'BF', 'BM', 'AF', and 'AM'). \n",
    "\n",
    "As an optional challenge, set the colors such that they are meaningfully related. For example, Brits in red, Americans in blue, with male-authored books a lighter shade of those same colors. You may want to consult the [list of Matplotlib named colors](https://matplotlib.org/examples/color/named_colors.html)."
   ]
  },
  {
   "cell_type": "code",
   "execution_count": null,
   "metadata": {},
   "outputs": [],
   "source": [
    "# Your code here"
   ]
  },
  {
   "cell_type": "markdown",
   "metadata": {},
   "source": [
    "## Vectorization alternatives\n",
    "\n",
    "Now it's time to explore some different settings for vectorization in order to see how they affect our output. We'll want to visualize the alternatives, so our first task is to write a function that produces a plot like the one above, given an input feature matrix and some visual settings. Here's a skeleton; complete it to spec."
   ]
  },
  {
   "cell_type": "code",
   "execution_count": null,
   "metadata": {},
   "outputs": [],
   "source": [
    "def plot_vectors(features, labels, colors, title):\n",
    "    \"\"\"\n",
    "    Takes a matrix of (dimension-reduced) features,\n",
    "      a list of class labels,\n",
    "      and a dictionary of class-color mappings,\n",
    "      and a string to use as a title for the plot.\n",
    "    Displays a simple 2D plot.\n",
    "    Returns None.\n",
    "    \"\"\"\n",
    "    # Your code here"
   ]
  },
  {
   "cell_type": "markdown",
   "metadata": {},
   "source": [
    "Next, read the [scikit-learn documentation](https://scikit-learn.org/stable/modules/generated/sklearn.feature_extraction.text.TfidfVectorizer.html) for `TfidfVectorizer`. Get a sense of the different options, then try out some alternatives, plotting the results of each as you go. You can do this in a series of cells, or by iterating over the alternatives. Among those options you might explore in particular:\n",
    "\n",
    "* `lowercase`\n",
    "* `preprocessor`. You might try the simple stemming preprocessor we wrote in the demo notebook, or you could get more ambitious with one of your own.\n",
    "* `n-gram_range`. What difference does including 2- or 3-grams as features make? Note that you need to supply the range as a tuple, e.g., `(1, 2)`.\n",
    "* `max_df` and `min_df`. You can set these in lieu of a list of stopwords. \n",
    "* `binary` and `use_idf`. We can try with and without IDF weighting and feature binarization.\n",
    "\n",
    "Note, though, that even this short list could easily produce dozens of unique vectorizations. Try at least eight, in whatever combinations strike you as interesting."
   ]
  },
  {
   "cell_type": "code",
   "execution_count": null,
   "metadata": {},
   "outputs": [],
   "source": []
  },
  {
   "cell_type": "markdown",
   "metadata": {},
   "source": [
    "## Analysis\n",
    "\n",
    "Finally, reflect on what you've observed. How do the different vectorization options seem to affect the output? Is there a combination of parameters that separates the classes especially well? Anything else that stands out to you about vectorization in this (quite small) case?"
   ]
  },
  {
   "cell_type": "markdown",
   "metadata": {},
   "source": []
  }
 ],
 "metadata": {
  "kernelspec": {
   "display_name": "Python 3",
   "language": "python",
   "name": "python3"
  },
  "language_info": {
   "codemirror_mode": {
    "name": "ipython",
    "version": 3
   },
   "file_extension": ".py",
   "mimetype": "text/x-python",
   "name": "python",
   "nbconvert_exporter": "python",
   "pygments_lexer": "ipython3",
   "version": "3.7.1"
  }
 },
 "nbformat": 4,
 "nbformat_minor": 2
}
