{
 "cells": [
  {
   "cell_type": "markdown",
   "metadata": {},
   "source": [
    "# Parsing gendered text\n",
    "\n",
    "Implement the `parse_gender` function as described on pp. 10-12 of the textbook. Run the function over the three texts indicated below and comment (briefly) on the results.\n",
    "\n",
    "Starter code is included below. When finished, commit your code and issue a pull request to me."
   ]
  },
  {
   "cell_type": "code",
   "execution_count": 23,
   "metadata": {},
   "outputs": [],
   "source": [
    "# Imports\n",
    "import nltk\n",
    "import os\n",
    "from   collections import Counter\n",
    "\n",
    "# Variables\n",
    "text_dir = os.path.join('..', 'data', 'texts') # Where are the texts?\n",
    "texts = [\n",
    "    'A-Alcott-Little_Women-1868-F.txt', # _Little Women_\n",
    "    'A-Twain-Huck_Finn-1885-M.txt',     # _Huck Finn_\n",
    "    'B-Eliot-Middlemarch-1869-F.txt'    # _Middlemarch_\n",
    "]"
   ]
  },
  {
   "cell_type": "code",
   "execution_count": 24,
   "metadata": {},
   "outputs": [],
   "source": [
    "# Word lists\n",
    "MALE = 'male'\n",
    "FEMALE = 'female'\n",
    "UNKNOWN = 'unknown'\n",
    "BOTH = 'both'\n",
    "\n",
    "MALE_WORDS = set([\n",
    "    'guy','spokesman','chairman',\"men's\",'men','him',\"he's\",'his',\n",
    "    'boy','boyfriend','boyfriends','boys','brother','brothers','dad',\n",
    "    'dads','dude','father','fathers','fiance','gentleman','gentlemen',\n",
    "    'god','grandfather','grandpa','grandson','groom','he','himself',\n",
    "    'husband','husbands','king','male','man','mr','nephew','nephews',\n",
    "    'priest','prince','son','sons','uncle','uncles','waiter','widower',\n",
    "    'widowers'\n",
    "])\n",
    "\n",
    "FEMALE_WORDS = set([\n",
    "    'heroine','spokeswoman','chairwoman',\"women's\",'actress','women',\n",
    "    \"she's\",'her','aunt','aunts','bride','daughter','daughters','female',\n",
    "    'fiancee','girl','girlfriend','girlfriends','girls','goddess',\n",
    "    'granddaughter','grandma','grandmother','herself','ladies','lady',\n",
    "    'lady','mom','moms','mother','mothers','mrs','ms','niece','nieces',\n",
    "    'priestess','princess','queens','she','sister','sisters','waitress',\n",
    "    'widow','widows','wife','wives','woman'\n",
    "])"
   ]
  },
  {
   "cell_type": "code",
   "execution_count": 34,
   "metadata": {},
   "outputs": [],
   "source": [
    "# Your code here ...\n",
    "'''\n",
    "You might want to create your own short text sample for use in developing your code.\n",
    "To be clear, it's fine to copy the textbook code. This exercise is mostly a shakedown to\n",
    "check that your environment is working and that the GitHub Classroom submission system\n",
    "works as intended.\n",
    "'''\n",
    "def genderize(words):\n",
    "\n",
    "    mwlen = len(MALE_WORDS.intersection(words))\n",
    "    fwlen = len(FEMALE_WORDS.intersection(words))\n",
    "\n",
    "    if mwlen > 0 and fwlen == 0:\n",
    "        return MALE\n",
    "    elif mwlen == 0 and fwlen > 0:\n",
    "        return FEMALE\n",
    "    elif mwlen > 0 and fwlen > 0:\n",
    "        return BOTH\n",
    "    else:\n",
    "        return UNKNOWN\n",
    "\n",
    "\n",
    "def count_gender(sentences):\n",
    "\n",
    "    sents = Counter() # Counters are like dictionaries, \n",
    "    words = Counter() # but handle missing elements better\n",
    "\n",
    "    for sentence in sentences:\n",
    "        gender = genderize(sentence)\n",
    "        sents[gender] += 1             # Number of sentences per gender\n",
    "        words[gender] += len(sentence) # Number of words in the sentence\n",
    "                                       # Note ALL words in sentence assigned to one gender\n",
    "\n",
    "    return sents, words\n",
    "\n",
    "\n",
    "def parse_gender(text):\n",
    "\n",
    "    # List of lists. Inner items are tokenized words. Outer items are sentences.\n",
    "    sentences = [\n",
    "        [word.lower() for word in nltk.word_tokenize(sentence)]\n",
    "        for sentence in nltk.sent_tokenize(text)\n",
    "    ]\n",
    "\n",
    "    sents, words = count_gender(sentences)\n",
    "    total = sum(words.values()) # Total text wordcount\n",
    "\n",
    "    pct_male = 0\n",
    "    pct_female = 0\n",
    "    \n",
    "    for gender, count in sorted(words.items()): # Each item is one gender\n",
    "        pcent = (count / total) * 100\n",
    "        nsents = sents[gender]\n",
    "        print(\n",
    "            \"{:0.1f}% {} ({} sentences)\".format(pcent, gender, nsents)\n",
    "        )\n",
    "    # Female/male ratio\n",
    "    print(f\"{round(words[FEMALE]/words[MALE],2)} female/male ratio\")"
   ]
  },
  {
   "cell_type": "code",
   "execution_count": 35,
   "metadata": {},
   "outputs": [
    {
     "name": "stdout",
     "output_type": "stream",
     "text": [
      "A-Alcott-Little_Women-1868-F.txt\n",
      "17.9% both (1010 sentences)\n",
      "33.2% female (2504 sentences)\n",
      "16.3% male (1393 sentences)\n",
      "32.6% unknown (4539 sentences)\n",
      "2.04 female/male ratio\n",
      "\n",
      "**********\n",
      "\n",
      "A-Twain-Huck_Finn-1885-M.txt\n",
      "7.1% both (185 sentences)\n",
      "9.6% female (415 sentences)\n",
      "36.4% male (1650 sentences)\n",
      "47.0% unknown (3576 sentences)\n",
      "0.26 female/male ratio\n",
      "\n",
      "**********\n",
      "\n",
      "B-Eliot-Middlemarch-1869-F.txt\n",
      "19.9% both (1880 sentences)\n",
      "14.2% female (1917 sentences)\n",
      "37.0% male (4558 sentences)\n",
      "29.0% unknown (6528 sentences)\n",
      "0.38 female/male ratio\n",
      "\n",
      "**********\n",
      "\n",
      "CPU times: user 6.43 s, sys: 40 ms, total: 6.47 s\n",
      "Wall time: 6.48 s\n"
     ]
    }
   ],
   "source": [
    "%%time\n",
    "# Run and examine the output\n",
    "for text in texts: # Loop over texts in corpus directory\n",
    "    print(text)\n",
    "    with open(os.path.join(text_dir, text), 'r') as f: # Open each text in turn\n",
    "        parse_gender(f.read()) # Run the gender-parsing function\n",
    "    print('\\n**********\\n')"
   ]
  },
  {
   "cell_type": "markdown",
   "metadata": {},
   "source": [
    "## Discussion\n",
    "\n",
    "Some very brief discussion here. What do you know about these books? What would you expect their gender breakdown to be? Did the program return results that matched your expectations? If not, what might you change?"
   ]
  },
  {
   "cell_type": "markdown",
   "metadata": {},
   "source": []
  }
 ],
 "metadata": {
  "kernelspec": {
   "display_name": "Python 3",
   "language": "python",
   "name": "python3"
  },
  "language_info": {
   "codemirror_mode": {
    "name": "ipython",
    "version": 3
   },
   "file_extension": ".py",
   "mimetype": "text/x-python",
   "name": "python",
   "nbconvert_exporter": "python",
   "pygments_lexer": "ipython3",
   "version": "3.7.1"
  }
 },
 "nbformat": 4,
 "nbformat_minor": 2
}
