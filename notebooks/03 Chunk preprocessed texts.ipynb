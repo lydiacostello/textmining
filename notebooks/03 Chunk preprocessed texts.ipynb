{
 "cells": [
  {
   "cell_type": "markdown",
   "metadata": {},
   "source": [
    "# Working with corpus data\n",
    "\n",
    "Here, we prepare the corpus in different ways (POS tagged, chunked, lemmatized, etc.). See also the TMN.py library, where the real work happens."
   ]
  },
  {
   "cell_type": "code",
   "execution_count": 1,
   "metadata": {},
   "outputs": [
    {
     "name": "stdout",
     "output_type": "stream",
     "text": [
      "CPU times: user 8min 37s, sys: 12.4 s, total: 8min 49s\n",
      "Wall time: 9min 32s\n"
     ]
    }
   ],
   "source": [
    "%%time\n",
    "\n",
    "import os\n",
    "import sys\n",
    "\n",
    "# Where are the corpus texts on your system\n",
    "text_dir = os.path.join('..', 'data', 'texts')\n",
    "pickle_dir = os.path.join('..', 'data', 'pickled_normalized')\n",
    "\n",
    "# Import our libraries\n",
    "sys.path.append(os.path.join('..', 'libraries'))\n",
    "import TMN\n",
    "\n",
    "# Initialize our corpus reader\n",
    "corpus = TMN.TMNCorpusReader(text_dir, r'.+\\.txt')\n",
    "\n",
    "# Initialize preprocessor\n",
    "preproc = TMN.Preprocessor(corpus, pickle_dir)\n",
    "\n",
    "# Perform preprocessing and save output to disk\n",
    "processed = preproc.transform(chunksize=0, norm=True)"
   ]
  },
  {
   "cell_type": "code",
   "execution_count": 2,
   "metadata": {},
   "outputs": [
    {
     "name": "stdout",
     "output_type": "stream",
     "text": [
      "Categories in the corpus:\n",
      " ['A', 'AF', 'AM', 'B', 'BF', 'BM', 'F', 'M']\n",
      "\n",
      "Number of files:\n",
      " 40\n",
      "\n",
      "A bit of one pickled text\n",
      "[['chapter', 'i']]\n"
     ]
    }
   ],
   "source": [
    "# Show that we can work with the pickled versions\n",
    "pcorpus = TMN.PickledCorpusReader(pickle_dir)\n",
    "print(\"Categories in the corpus:\\n\", pcorpus.categories())\n",
    "print(\"\\nNumber of files:\\n\", len(pcorpus.fileids()))\n",
    "print(\"\\nA bit of one pickled text\")\n",
    "for doc in pcorpus.docs(fileids=['A-Stowe-Uncle_Tom-1852-F.pickle']):\n",
    "    print(doc[1])\n",
    "    break"
   ]
  },
  {
   "cell_type": "code",
   "execution_count": null,
   "metadata": {},
   "outputs": [],
   "source": []
  }
 ],
 "metadata": {
  "kernelspec": {
   "display_name": "Python 3",
   "language": "python",
   "name": "python3"
  },
  "language_info": {
   "codemirror_mode": {
    "name": "ipython",
    "version": 3
   },
   "file_extension": ".py",
   "mimetype": "text/x-python",
   "name": "python",
   "nbconvert_exporter": "python",
   "pygments_lexer": "ipython3",
   "version": "3.7.1"
  }
 },
 "nbformat": 4,
 "nbformat_minor": 2
}
