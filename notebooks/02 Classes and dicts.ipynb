{
 "cells": [
  {
   "cell_type": "markdown",
   "metadata": {},
   "source": [
    "# Classes and dictionaries"
   ]
  },
  {
   "cell_type": "markdown",
   "metadata": {},
   "source": [
    "## Dictionaries"
   ]
  },
  {
   "cell_type": "code",
   "execution_count": 34,
   "metadata": {},
   "outputs": [
    {
     "name": "stdout",
     "output_type": "stream",
     "text": [
      "2\n"
     ]
    }
   ],
   "source": [
    "#Simple\n",
    "x = {\n",
    "    'alpha': 1,\n",
    "    'beta': 2,\n",
    "    'chi': 3\n",
    "}\n",
    "print(x['beta'])"
   ]
  },
  {
   "cell_type": "code",
   "execution_count": 35,
   "metadata": {},
   "outputs": [
    {
     "name": "stdout",
     "output_type": "stream",
     "text": [
      "{'alpha': 1, 'beta': 2, 'chi': 3, 'delta': 4}\n"
     ]
    }
   ],
   "source": [
    "x['delta'] = 4\n",
    "print(x)"
   ]
  },
  {
   "cell_type": "code",
   "execution_count": 36,
   "metadata": {},
   "outputs": [
    {
     "name": "stdout",
     "output_type": "stream",
     "text": [
      "[1, 2, 3]\n"
     ]
    }
   ],
   "source": [
    "#Less simple\n",
    "y = {\n",
    "    'alpha': ['A', 'B', 'C'],\n",
    "    'beta': [1, 2, 3],\n",
    "    'chi': {\n",
    "        'delta': 'one',\n",
    "        'epsilon': 'two'\n",
    "    }\n",
    "}\n",
    "print(y['beta'])"
   ]
  },
  {
   "cell_type": "code",
   "execution_count": 37,
   "metadata": {},
   "outputs": [
    {
     "name": "stdout",
     "output_type": "stream",
     "text": [
      "two\n"
     ]
    }
   ],
   "source": [
    "print(y['chi']['epsilon'])"
   ]
  },
  {
   "cell_type": "code",
   "execution_count": 38,
   "metadata": {},
   "outputs": [
    {
     "name": "stdout",
     "output_type": "stream",
     "text": [
      "{'alpha': ['A', 'B', 'C'], 'beta': [1, 2, 3], 'chi': {'delta': 'one', 'epsilon': 'three'}}\n"
     ]
    }
   ],
   "source": [
    "y['chi']['epsilon'] = 'three'\n",
    "print(y)"
   ]
  },
  {
   "cell_type": "code",
   "execution_count": 39,
   "metadata": {},
   "outputs": [
    {
     "ename": "KeyError",
     "evalue": "'gamma'",
     "output_type": "error",
     "traceback": [
      "\u001b[0;31m---------------------------------------------------------------------------\u001b[0m",
      "\u001b[0;31mKeyError\u001b[0m                                  Traceback (most recent call last)",
      "\u001b[0;32m<ipython-input-39-84fde679b117>\u001b[0m in \u001b[0;36m<module>\u001b[0;34m\u001b[0m\n\u001b[1;32m      1\u001b[0m \u001b[0;31m#Unknown key throws KeyError\u001b[0m\u001b[0;34m\u001b[0m\u001b[0;34m\u001b[0m\u001b[0;34m\u001b[0m\u001b[0m\n\u001b[0;32m----> 2\u001b[0;31m \u001b[0my\u001b[0m\u001b[0;34m[\u001b[0m\u001b[0;34m'gamma'\u001b[0m\u001b[0;34m]\u001b[0m\u001b[0;34m\u001b[0m\u001b[0;34m\u001b[0m\u001b[0m\n\u001b[0m",
      "\u001b[0;31mKeyError\u001b[0m: 'gamma'"
     ]
    }
   ],
   "source": [
    "#Unknown key throws KeyError\n",
    "y['gamma']"
   ]
  },
  {
   "cell_type": "code",
   "execution_count": 40,
   "metadata": {},
   "outputs": [
    {
     "data": {
      "text/plain": [
       "0"
      ]
     },
     "execution_count": 40,
     "metadata": {},
     "output_type": "execute_result"
    }
   ],
   "source": [
    "from collections import defaultdict\n",
    "z = defaultdict(int)\n",
    "z['alpha']"
   ]
  },
  {
   "cell_type": "markdown",
   "metadata": {},
   "source": [
    "## Classes"
   ]
  },
  {
   "cell_type": "code",
   "execution_count": 41,
   "metadata": {},
   "outputs": [],
   "source": [
    "class Baseclass:\n",
    "    def __init__(self, first):\n",
    "        self.firstname = first\n",
    "    def FirstName(self):\n",
    "        return self.firstname\n",
    "\n",
    "class Subclass(Baseclass):\n",
    "    def __init__(self, first, last):\n",
    "        Baseclass.__init__(self, first)\n",
    "        self.lastname = last\n",
    "    def LastName(self):\n",
    "        return self.lastname\n",
    "    def FullName(self):\n",
    "        return self.firstname + ' '  + self.lastname"
   ]
  },
  {
   "cell_type": "code",
   "execution_count": 42,
   "metadata": {},
   "outputs": [
    {
     "name": "stdout",
     "output_type": "stream",
     "text": [
      "Matt\n",
      "Wilkens\n",
      "Matt \t#<- NB. FirstName() not defined in Subclass\n",
      "Matt Wilkens\n"
     ]
    }
   ],
   "source": [
    "x = Baseclass(\"Matt\")\n",
    "y = Subclass(\"Matt\", \"Wilkens\")\n",
    "print(x.FirstName())\n",
    "print(y.LastName()),\n",
    "print(y.FirstName(), \"\\t#<- NB. FirstName() not defined in Subclass\"),\n",
    "print(y.FullName())"
   ]
  },
  {
   "cell_type": "markdown",
   "metadata": {},
   "source": [
    "## Single and double quotes"
   ]
  },
  {
   "cell_type": "code",
   "execution_count": 43,
   "metadata": {},
   "outputs": [
    {
     "name": "stdout",
     "output_type": "stream",
     "text": [
      "Cat's toy\n"
     ]
    }
   ],
   "source": [
    "print(\"Cat's toy\")"
   ]
  },
  {
   "cell_type": "code",
   "execution_count": 45,
   "metadata": {},
   "outputs": [
    {
     "name": "stdout",
     "output_type": "stream",
     "text": [
      "Cat's toy\n"
     ]
    }
   ],
   "source": [
    "print('Cat\\'s toy')"
   ]
  },
  {
   "cell_type": "code",
   "execution_count": 46,
   "metadata": {},
   "outputs": [
    {
     "name": "stdout",
     "output_type": "stream",
     "text": [
      "\n",
      "\"This is some text's idea\"\n",
      "\n"
     ]
    }
   ],
   "source": [
    "b = \"\"\"\n",
    "\"This is some text's idea\"\n",
    "\"\"\"\n",
    "print(b)"
   ]
  },
  {
   "cell_type": "markdown",
   "metadata": {},
   "source": [
    "## Regular expressions"
   ]
  },
  {
   "cell_type": "code",
   "execution_count": 51,
   "metadata": {},
   "outputs": [
    {
     "name": "stdout",
     "output_type": "stream",
     "text": [
      "<re.Match object; span=(0, 1), match='T'>\n"
     ]
    }
   ],
   "source": [
    "import re\n",
    "s = 'This is a string.'\n",
    "result = re.match('.', s)\n",
    "print(result)"
   ]
  },
  {
   "cell_type": "code",
   "execution_count": 52,
   "metadata": {},
   "outputs": [
    {
     "name": "stdout",
     "output_type": "stream",
     "text": [
      "<re.Match object; span=(0, 17), match='This is a string.'>\n",
      "This is a string.\n"
     ]
    }
   ],
   "source": [
    "print(re.match('.*', s))\n",
    "print(re.match('.*', s)[0])"
   ]
  },
  {
   "cell_type": "code",
   "execution_count": 53,
   "metadata": {},
   "outputs": [
    {
     "name": "stdout",
     "output_type": "stream",
     "text": [
      "['is a']\n"
     ]
    }
   ],
   "source": [
    "print(re.findall('is a', s))"
   ]
  },
  {
   "cell_type": "code",
   "execution_count": 54,
   "metadata": {},
   "outputs": [
    {
     "name": "stdout",
     "output_type": "stream",
     "text": [
      "['is', 'is', 's', 'i']\n"
     ]
    }
   ],
   "source": [
    "print(re.findall('[is]+', s))"
   ]
  },
  {
   "cell_type": "code",
   "execution_count": 55,
   "metadata": {},
   "outputs": [
    {
     "name": "stdout",
     "output_type": "stream",
     "text": [
      "['This', 'is', 'a', 'string']\n",
      "[' ', ' ', ' ', '.']\n"
     ]
    }
   ],
   "source": [
    "#\\w = 'word-like' characters\n",
    "print(re.findall('\\w+', s))\n",
    "print(re.findall('\\W+', s)) # Note capital version is negation of base case\n"
   ]
  },
  {
   "cell_type": "markdown",
   "metadata": {},
   "source": [
    "## Generators"
   ]
  },
  {
   "cell_type": "code",
   "execution_count": 56,
   "metadata": {},
   "outputs": [
    {
     "name": "stdout",
     "output_type": "stream",
     "text": [
      "<generator object decrement_steps at 0x1a16e8fcf0>\n"
     ]
    }
   ],
   "source": [
    "def decrement_steps(num):\n",
    "    while num > 0:\n",
    "        yield num\n",
    "        num -= 1\n",
    "print(decrement_steps(5))"
   ]
  },
  {
   "cell_type": "code",
   "execution_count": 57,
   "metadata": {},
   "outputs": [
    {
     "name": "stdout",
     "output_type": "stream",
     "text": [
      "3\n",
      "2\n",
      "1\n"
     ]
    }
   ],
   "source": [
    "for i in decrement_steps(3):\n",
    "    print(i)"
   ]
  },
  {
   "cell_type": "code",
   "execution_count": 58,
   "metadata": {},
   "outputs": [
    {
     "ename": "TypeError",
     "evalue": "'generator' object is not subscriptable",
     "output_type": "error",
     "traceback": [
      "\u001b[0;31m---------------------------------------------------------------------------\u001b[0m",
      "\u001b[0;31mTypeError\u001b[0m                                 Traceback (most recent call last)",
      "\u001b[0;32m<ipython-input-58-b56118fa6d09>\u001b[0m in \u001b[0;36m<module>\u001b[0;34m\u001b[0m\n\u001b[1;32m      1\u001b[0m \u001b[0;31m# Cannot index into generators\u001b[0m\u001b[0;34m\u001b[0m\u001b[0;34m\u001b[0m\u001b[0;34m\u001b[0m\u001b[0m\n\u001b[0;32m----> 2\u001b[0;31m \u001b[0mdecrement_steps\u001b[0m\u001b[0;34m(\u001b[0m\u001b[0;36m3\u001b[0m\u001b[0;34m)\u001b[0m\u001b[0;34m[\u001b[0m\u001b[0;36m0\u001b[0m\u001b[0;34m]\u001b[0m\u001b[0;34m\u001b[0m\u001b[0;34m\u001b[0m\u001b[0m\n\u001b[0m",
      "\u001b[0;31mTypeError\u001b[0m: 'generator' object is not subscriptable"
     ]
    }
   ],
   "source": [
    "# Cannot index into generators\n",
    "decrement_steps(3)[0]"
   ]
  },
  {
   "cell_type": "code",
   "execution_count": 59,
   "metadata": {},
   "outputs": [
    {
     "name": "stdout",
     "output_type": "stream",
     "text": [
      "[3, 2, 1]\n"
     ]
    }
   ],
   "source": [
    "# Cast to list (not a great idea)\n",
    "print(list(decrement_steps(3)))"
   ]
  },
  {
   "cell_type": "markdown",
   "metadata": {},
   "source": [
    "## CorpusReader code"
   ]
  },
  {
   "cell_type": "code",
   "execution_count": 60,
   "metadata": {},
   "outputs": [],
   "source": [
    "# From textbook\n",
    "import nltk\n",
    "import codecs\n",
    "\n",
    "from nltk.corpus.reader.api import CorpusReader\n",
    "from nltk.corpus.reader.api import CategorizedCorpusReader\n",
    "\n",
    "CAT_PATTERN = r'([a-z_\\s]+)/.*'\n",
    "DOC_PATTERN = r'(?!\\.)[a-z_\\s]+/[a-f0-9]+\\.json'\n",
    "TAGS = ['h1', 'h2', 'h3', 'h4', 'h5', 'h6', 'h7', 'p', 'li']\n",
    "\n",
    "class HTMLCorpusReader(CategorizedCorpusReader, CorpusReader):\n",
    "    \"\"\"\n",
    "    A corpus reader for raw HTML documents to enable preprocessing.\n",
    "    \"\"\"\n",
    "\n",
    "    def __init__(self, root, fileids=DOC_PATTERN, encoding='utf8',\n",
    "                 tags=TAGS, **kwargs):\n",
    "        \"\"\"\n",
    "        Initialize the corpus reader.  Categorization arguments\n",
    "        (``cat_pattern``, ``cat_map``, and ``cat_file``) are passed to\n",
    "        the ``CategorizedCorpusReader`` constructor.  The remaining\n",
    "        arguments are passed to the ``CorpusReader`` constructor.\n",
    "        \"\"\"\n",
    "        # Add the default category pattern if not passed into the class.\n",
    "        if not any(key.startswith('cat_') for key in kwargs.keys()):\n",
    "            kwargs['cat_pattern'] = CAT_PATTERN\n",
    "\n",
    "        # Initialize the NLTK corpus reader objects\n",
    "        CategorizedCorpusReader.__init__(self, kwargs)\n",
    "        CorpusReader.__init__(self, root, fileids, encoding)\n",
    "\n",
    "        # Save the tags that we specifically want to extract.\n",
    "        self.tags = tags\n",
    "\n",
    "    def resolve(self, fileids, categories):\n",
    "        \"\"\"\n",
    "        Returns a list of fileids or categories depending on what is passed\n",
    "        to each internal corpus reader function. Implemented similarly to\n",
    "        the NLTK ``CategorizedPlaintextCorpusReader``.\n",
    "        \"\"\"\n",
    "        if fileids is not None and categories is not None:\n",
    "            raise ValueError(\"Specify fileids or categories, not both\")\n",
    "\n",
    "        if categories is not None:\n",
    "            return self.fileids(categories)\n",
    "        return fileids\n",
    "\n",
    "    def docs(self, fileids=None, categories=None):\n",
    "        \"\"\"\n",
    "        Returns the complete text of an HTML document, closing the document\n",
    "        after we are done reading it and yielding it in a memory safe fashion.\n",
    "        \"\"\"\n",
    "        # Resolve the fileids and the categories\n",
    "        fileids = self.resolve(fileids, categories)\n",
    "\n",
    "        # Create a generator, loading one document into memory at a time.\n",
    "        for path, encoding in self.abspaths(fileids, include_encoding=True):\n",
    "            with codecs.open(path, 'r', encoding=encoding) as f:\n",
    "                yield f.read()\n",
    "\n",
    "    def sizes(self, fileids=None, categories=None):\n",
    "        \"\"\"\n",
    "        Returns a list of tuples, the fileid and size on disk of the file.\n",
    "        This function is used to detect oddly large files in the corpus.\n",
    "        \"\"\"\n",
    "        # Resolve the fileids and the categories\n",
    "        fileids = self.resolve(fileids, categories)\n",
    "\n",
    "        # Create a generator, getting every path and computing filesize\n",
    "        for path in self.abspaths(fileids):\n",
    "            yield os.path.getsize(path)"
   ]
  },
  {
   "cell_type": "code",
   "execution_count": 61,
   "metadata": {},
   "outputs": [],
   "source": [
    "import os\n",
    "text_dir = os.path.join('..', 'data', 'texts')\n",
    "c = HTMLCorpusReader(text_dir, '.+\\.txt')"
   ]
  },
  {
   "cell_type": "code",
   "execution_count": 62,
   "metadata": {},
   "outputs": [
    {
     "data": {
      "text/plain": [
       "['A-Alcott-Little_Women-1868-F.txt',\n",
       " 'A-Cather-Antonia-1918-F.txt',\n",
       " 'A-Chesnutt-Marrow-1901-M.txt',\n",
       " 'A-Chopin-Awakening-1899-F.txt',\n",
       " 'A-Crane-Maggie-1893-M.txt',\n",
       " 'A-Davis-Life_Iron_Mills-1861-F.txt',\n",
       " 'A-Dreiser-Sister_Carrie-1900-M.txt',\n",
       " 'A-Freeman-Pembroke-1894-F.txt',\n",
       " 'A-Gilman-Herland-1915-F.txt',\n",
       " 'A-Harper-Iola_Leroy-1892-F.txt',\n",
       " 'A-Hawthorne-Scarlet_Letter-1850-M.txt',\n",
       " 'A-Howells-Silas_Lapham-1885-M.txt',\n",
       " 'A-James-Golden_Bowl-1904-M.txt',\n",
       " 'A-Jewett-Pointed_Firs-1896-F.txt',\n",
       " 'A-London-Call_Wild-1903-M.txt',\n",
       " 'A-Melville-Moby_Dick-1851-M.txt',\n",
       " 'A-Norris-Pit-1903-M.txt',\n",
       " 'A-Stowe-Uncle_Tom-1852-F.txt',\n",
       " 'A-Twain-Huck_Finn-1885-M.txt',\n",
       " 'A-Wharton-Age_Innocence-1920-F.txt',\n",
       " 'B-Austen-Pride_Prejudice-1813-F.txt',\n",
       " 'B-Bronte_C-Jane_Eyre-1847-F.txt',\n",
       " 'B-Bronte_E-Wuthering_Heights-1847-F.txt',\n",
       " 'B-Burney-Evelina-1778-F.txt',\n",
       " 'B-Conrad-Heart_Darkness-1902-M.txt',\n",
       " 'B-Dickens-Bleak_House-1853-M.txt',\n",
       " 'B-Disraeli-Sybil-1845-M.txt',\n",
       " 'B-Eliot-Middlemarch-1869-F.txt',\n",
       " 'B-Forster-Room_View-1908-M.txt',\n",
       " 'B-Gaskell-North_South-1855-F.txt',\n",
       " 'B-Gissing-Grub_Street-1893-M.txt',\n",
       " 'B-Hardy-Tess-1891-M.txt',\n",
       " 'B-Mitford-Our_Village-1826-F.txt',\n",
       " 'B-Radcliffe-Mysteries_Udolpho-1794-F.txt',\n",
       " 'B-Shelley-Frankenstein-1818-F.txt',\n",
       " 'B-Stevenson-Treasure_Island-1883-M.txt',\n",
       " 'B-Thackeray-Vanity_Fair-1848-M.txt',\n",
       " 'B-Trollope-Live_Now-1875-M.txt',\n",
       " 'B-Wells-Time_Machine-1895-M.txt',\n",
       " 'B-Woolf-Mrs_Dalloway-1925-F.txt']"
      ]
     },
     "execution_count": 62,
     "metadata": {},
     "output_type": "execute_result"
    }
   ],
   "source": [
    "c.fileids() # Note inheritance from CategorizedCorpusReader()"
   ]
  },
  {
   "cell_type": "code",
   "execution_count": 63,
   "metadata": {},
   "outputs": [
    {
     "data": {
      "text/plain": [
       "True"
      ]
     },
     "execution_count": 63,
     "metadata": {},
     "output_type": "execute_result"
    }
   ],
   "source": [
    "isinstance(c, HTMLCorpusReader)"
   ]
  },
  {
   "cell_type": "code",
   "execution_count": 64,
   "metadata": {},
   "outputs": [
    {
     "data": {
      "text/plain": [
       "True"
      ]
     },
     "execution_count": 64,
     "metadata": {},
     "output_type": "execute_result"
    }
   ],
   "source": [
    "issubclass(HTMLCorpusReader, CorpusReader)"
   ]
  },
  {
   "cell_type": "code",
   "execution_count": 65,
   "metadata": {},
   "outputs": [
    {
     "name": "stdout",
     "output_type": "stream",
     "text": [
      "<generator object HTMLCorpusReader.sizes at 0x1a16e8fde0>\n"
     ]
    }
   ],
   "source": [
    "#Generators are a pain to print or index!\n",
    "print(c.sizes())"
   ]
  },
  {
   "cell_type": "code",
   "execution_count": 66,
   "metadata": {},
   "outputs": [
    {
     "ename": "TypeError",
     "evalue": "'generator' object is not subscriptable",
     "output_type": "error",
     "traceback": [
      "\u001b[0;31m---------------------------------------------------------------------------\u001b[0m",
      "\u001b[0;31mTypeError\u001b[0m                                 Traceback (most recent call last)",
      "\u001b[0;32m<ipython-input-66-5a2ef17af98e>\u001b[0m in \u001b[0;36m<module>\u001b[0;34m\u001b[0m\n\u001b[1;32m      1\u001b[0m \u001b[0;31m#Cannot index generators\u001b[0m\u001b[0;34m\u001b[0m\u001b[0;34m\u001b[0m\u001b[0;34m\u001b[0m\u001b[0m\n\u001b[0;32m----> 2\u001b[0;31m \u001b[0mc\u001b[0m\u001b[0;34m.\u001b[0m\u001b[0msizes\u001b[0m\u001b[0;34m(\u001b[0m\u001b[0;34m)\u001b[0m\u001b[0;34m[\u001b[0m\u001b[0;36m1\u001b[0m\u001b[0;34m]\u001b[0m\u001b[0;34m\u001b[0m\u001b[0;34m\u001b[0m\u001b[0m\n\u001b[0m",
      "\u001b[0;31mTypeError\u001b[0m: 'generator' object is not subscriptable"
     ]
    }
   ],
   "source": [
    "#Cannot index generators\n",
    "c.sizes()[1]"
   ]
  },
  {
   "cell_type": "code",
   "execution_count": 67,
   "metadata": {},
   "outputs": [
    {
     "data": {
      "text/plain": [
       "440138"
      ]
     },
     "execution_count": 67,
     "metadata": {},
     "output_type": "execute_result"
    }
   ],
   "source": [
    "#Instead, cast to list (ick!) ...\n",
    "sizes = list(c.sizes())\n",
    "sizes[1]"
   ]
  },
  {
   "cell_type": "code",
   "execution_count": 68,
   "metadata": {},
   "outputs": [
    {
     "name": "stdout",
     "output_type": "stream",
     "text": [
      "1015333\n",
      "440138\n",
      "501350\n",
      "362678\n",
      "131011\n",
      "81705\n",
      "877726\n",
      "439228\n",
      "303622\n",
      "400630\n",
      "482635\n",
      "698671\n",
      "1158749\n",
      "226008\n",
      "175324\n",
      "1214754\n",
      "696565\n",
      "1038920\n",
      "562852\n",
      "580020\n",
      "693745\n",
      "1024274\n",
      "649624\n",
      "850699\n",
      "210664\n",
      "1934468\n",
      "895945\n",
      "1790058\n",
      "376769\n",
      "997858\n",
      "1027060\n",
      "837176\n",
      "220769\n",
      "1680642\n",
      "423462\n",
      "360653\n",
      "1709359\n",
      "1899937\n",
      "178886\n",
      "363009\n"
     ]
    }
   ],
   "source": [
    "# ... or loop over values\n",
    "for i in c.sizes():\n",
    "    print(i)"
   ]
  },
  {
   "cell_type": "code",
   "execution_count": 69,
   "metadata": {},
   "outputs": [
    {
     "name": "stdout",
     "output_type": "stream",
     "text": [
      "1015333\n",
      "440138\n",
      "501350\n"
     ]
    }
   ],
   "source": [
    "# Stepwise iteration with next()\n",
    "x = c.sizes()\n",
    "for i in range(3):\n",
    "    print(next(x))"
   ]
  },
  {
   "cell_type": "code",
   "execution_count": null,
   "metadata": {},
   "outputs": [],
   "source": []
  }
 ],
 "metadata": {
  "kernelspec": {
   "display_name": "Python 3",
   "language": "python",
   "name": "python3"
  },
  "language_info": {
   "codemirror_mode": {
    "name": "ipython",
    "version": 3
   },
   "file_extension": ".py",
   "mimetype": "text/x-python",
   "name": "python",
   "nbconvert_exporter": "python",
   "pygments_lexer": "ipython3",
   "version": "3.7.1"
  }
 },
 "nbformat": 4,
 "nbformat_minor": 2
}
