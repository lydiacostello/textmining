{
 "cells": [
  {
   "cell_type": "markdown",
   "metadata": {},
   "source": [
    "# Vectorization\n",
    "\n",
    "## Import our corpus readers"
   ]
  },
  {
   "cell_type": "code",
   "execution_count": 22,
   "metadata": {},
   "outputs": [],
   "source": [
    "import nltk\n",
    "import os\n",
    "import string\n",
    "import sys\n",
    "\n",
    "# Import out corpus readers\n",
    "sys.path.append(os.path.join('..', 'libraries'))\n",
    "import TMN"
   ]
  },
  {
   "cell_type": "markdown",
   "metadata": {},
   "source": [
    "## Load corpora"
   ]
  },
  {
   "cell_type": "code",
   "execution_count": 23,
   "metadata": {},
   "outputs": [],
   "source": [
    "# Set up our corpora\n",
    "text_dir = os.path.join('..', 'data', 'texts')\n",
    "pickle_dir = os.path.join('..', 'data', 'pickled')\n",
    "corpus = TMN.TMNCorpusReader(text_dir)\n",
    "pcorpus = TMN.PickledCorpusReader(pickle_dir)"
   ]
  },
  {
   "cell_type": "markdown",
   "metadata": {},
   "source": [
    "## Textbook vectorizer code"
   ]
  },
  {
   "cell_type": "code",
   "execution_count": 24,
   "metadata": {},
   "outputs": [],
   "source": [
    "# Tokenization function\n",
    "def tokenize(text):\n",
    "    stem = nltk.stem.SnowballStemmer('english')\n",
    "    text = text.lower()\n",
    "\n",
    "    for token in nltk.word_tokenize(text):\n",
    "        if token in string.punctuation: continue\n",
    "        yield stem.stem(token)\n",
    "\n",
    "# NLTK versions\n",
    "def nltk_frequency_vectorize(corpus):\n",
    "\n",
    "    # The NLTK frequency vectorize method. NOTE ERROR IN TEXTBOOK CODE.\n",
    "    from collections import defaultdict\n",
    "\n",
    "    def vectorize(doc):\n",
    "        features = defaultdict(int)\n",
    "\n",
    "        for token in tokenize(doc):\n",
    "            features[token] += 1\n",
    "\n",
    "        return features\n",
    "\n",
    "    return map(vectorize, corpus)\n",
    "\n",
    "\n",
    "def nltk_one_hot_vectorize(corpus):\n",
    "    # The NLTK one hot vectorize method\n",
    "    def vectorize(doc):\n",
    "        return {\n",
    "            token: True\n",
    "            for token in tokenize(doc)\n",
    "        }\n",
    "\n",
    "    return map(vectorize, corpus)\n",
    "\n",
    "\n",
    "def nltk_tfidf_vectorize(corpus):\n",
    "\n",
    "    from nltk.text import TextCollection\n",
    "\n",
    "    corpus = [list(tokenize(doc)) for doc in corpus]\n",
    "    texts = TextCollection(corpus)\n",
    "\n",
    "    for doc in corpus:\n",
    "        yield {\n",
    "            term: texts.tf_idf(term, doc)\n",
    "            for term in doc\n",
    "        }\n",
    "\n",
    "\n",
    "# Gensim versions\n",
    "def gensim_frequency_vectorize(corpus):\n",
    "    # The Gensim frequency vectorize method\n",
    "    import gensim\n",
    "    \n",
    "    corpus  = [list(tokenize(doc)) for doc in corpus]\n",
    "    id2word = gensim.corpora.Dictionary(corpus)\n",
    "\n",
    "    return [\n",
    "        id2word.doc2bow(doc) for doc in corpus # Note error in textbook\n",
    "    ]\n",
    "\n",
    "\n",
    "def gensim_one_hot_vectorize(corpus):\n",
    "    # The Gensim one hot vectorize method\n",
    "    import gensim\n",
    "    import numpy as np\n",
    "\n",
    "    corpus  = [list(tokenize(doc)) for doc in corpus]\n",
    "    id2word = gensim.corpora.Dictionary(corpus)\n",
    "\n",
    "    corpus  = np.array([\n",
    "        [(token[0], 1) for token in id2word.doc2bow(doc)]\n",
    "        for doc in corpus\n",
    "    ])\n",
    "\n",
    "    return corpus\n",
    "\n",
    "\n",
    "def gensim_tfidf_vectorize(corpus):\n",
    "    import gensim\n",
    "\n",
    "    corpus  = [list(tokenize(doc)) for doc in corpus]\n",
    "    lexicon = gensim.corpora.Dictionary(corpus)\n",
    "\n",
    "    tfidf   = gensim.models.TfidfModel(dictionary=lexicon, normalize=True)\n",
    "    vectors = [tfidf[lexicon.doc2bow(vector)] for vector in corpus]\n",
    "\n",
    "    #lexicon.save_as_text('test.txt')\n",
    "    #tfidf.save('tfidf.pkl')\n",
    "\n",
    "    return vectors\n",
    "\n",
    "\n",
    "def gensim_doc2vec_vectorize(corpus):\n",
    "    from gensim.models.doc2vec import TaggedDocument, Doc2Vec\n",
    "\n",
    "    corpus = [list(tokenize(doc)) for doc in corpus]\n",
    "    docs   = [\n",
    "        TaggedDocument(words, ['d{}'.format(idx)])\n",
    "        for idx, words in enumerate(corpus)\n",
    "    ]\n",
    "    model = Doc2Vec(docs, vector_size=5, min_count=0)\n",
    "    return model.docvecs\n",
    "\n",
    "\n",
    "# Scikit-learn versions\n",
    "\n",
    "def sklearn_frequency_vectorize(corpus):\n",
    "    # The Scikit-Learn frequency vectorize method\n",
    "    from sklearn.feature_extraction.text import CountVectorizer\n",
    "\n",
    "    vectorizer = CountVectorizer()\n",
    "    return vectorizer.fit_transform(corpus)\n",
    "\n",
    "\n",
    "def sklearn_one_hot_vectorize(corpus):\n",
    "    # The Sklearn one hot vectorize method\n",
    "\n",
    "    from sklearn.feature_extraction.text import CountVectorizer\n",
    "    from sklearn.preprocessing import Binarizer\n",
    "\n",
    "    freq    = CountVectorizer()\n",
    "    vectors = freq.fit_transform(corpus)\n",
    "\n",
    "    print(len(vectors.toarray()[0]))\n",
    "\n",
    "    onehot  = Binarizer()\n",
    "    vectors = onehot.fit_transform(vectors.toarray())\n",
    "\n",
    "    print(len(vectors[0]))\n",
    "\n",
    "def sklearn_tfidf_vectorize(corpus):\n",
    "    from sklearn.feature_extraction.text import TfidfVectorizer\n",
    "\n",
    "    tfidf = TfidfVectorizer()\n",
    "    return tfidf.fit_transform(corpus)"
   ]
  },
  {
   "cell_type": "markdown",
   "metadata": {},
   "source": [
    "## Examine a toy corpus"
   ]
  },
  {
   "cell_type": "code",
   "execution_count": 25,
   "metadata": {},
   "outputs": [],
   "source": [
    "# The demo corpus object\n",
    "demo_corpus = [\n",
    "    \"The elephant sneezed at the sight of potatoes.\",\n",
    "    \"Bats can see via echolocation. See the bat sight sneeze!\",\n",
    "    \"Wondering, she opened the door to the studio.\",\n",
    "]"
   ]
  },
  {
   "cell_type": "code",
   "execution_count": 26,
   "metadata": {},
   "outputs": [],
   "source": [
    "freq_vectorizers = [\n",
    "    gensim_frequency_vectorize(demo_corpus),\n",
    "    nltk_frequency_vectorize(demo_corpus),\n",
    "    sklearn_frequency_vectorize(demo_corpus)\n",
    "]\n",
    "\n",
    "tfidf_vectorizers = [\n",
    "    gensim_tfidf_vectorize(demo_corpus),\n",
    "    nltk_tfidf_vectorize(demo_corpus),\n",
    "    sklearn_tfidf_vectorize(demo_corpus)\n",
    "]"
   ]
  },
  {
   "cell_type": "code",
   "execution_count": 27,
   "metadata": {},
   "outputs": [
    {
     "name": "stdout",
     "output_type": "stream",
     "text": [
      "[[(0, 1), (1, 1), (2, 1), (3, 1), (4, 1), (5, 1), (6, 2)], [(4, 1), (5, 1), (6, 1), (7, 2), (8, 1), (9, 1), (10, 2), (11, 1)], [(6, 2), (12, 1), (13, 1), (14, 1), (15, 1), (16, 1), (17, 1)]]\n",
      "\n",
      "<map object at 0x1a19e88b70>\n",
      "\n",
      "  (0, 9)\t1\n",
      "  (0, 7)\t1\n",
      "  (0, 12)\t1\n",
      "  (0, 0)\t1\n",
      "  (0, 14)\t1\n",
      "  (0, 6)\t1\n",
      "  (0, 16)\t2\n",
      "  (1, 13)\t1\n",
      "  (1, 1)\t1\n",
      "  (1, 5)\t1\n",
      "  (1, 18)\t1\n",
      "  (1, 10)\t2\n",
      "  (1, 3)\t1\n",
      "  (1, 2)\t1\n",
      "  (1, 12)\t1\n",
      "  (1, 16)\t1\n",
      "  (2, 15)\t1\n",
      "  (2, 17)\t1\n",
      "  (2, 4)\t1\n",
      "  (2, 8)\t1\n",
      "  (2, 11)\t1\n",
      "  (2, 19)\t1\n",
      "  (2, 16)\t2\n",
      "\n"
     ]
    }
   ],
   "source": [
    "for i in freq_vectorizers:\n",
    "    print(i)\n",
    "    print()"
   ]
  },
  {
   "cell_type": "code",
   "execution_count": 7,
   "metadata": {},
   "outputs": [
    {
     "name": "stdout",
     "output_type": "stream",
     "text": [
      "[[(0, 0.4837965208957426), (1, 0.4837965208957426), (2, 0.4837965208957426), (3, 0.4837965208957426), (4, 0.17855490118826325), (5, 0.17855490118826325)], [(4, 0.10992597952954358), (5, 0.10992597952954358), (7, 0.5956913654963344), (8, 0.2978456827481672), (9, 0.2978456827481672), (10, 0.5956913654963344), (11, 0.2978456827481672)], [(12, 0.408248290463863), (13, 0.408248290463863), (14, 0.408248290463863), (15, 0.408248290463863), (16, 0.408248290463863), (17, 0.408248290463863)]]\n",
      "\n",
      "<generator object nltk_tfidf_vectorize at 0x1a19413cf0>\n",
      "\n",
      "  (0, 16)\t0.44730460893892116\n",
      "  (0, 6)\t0.37867626873820165\n",
      "  (0, 14)\t0.37867626873820165\n",
      "  (0, 0)\t0.37867626873820165\n",
      "  (0, 12)\t0.28799306292785165\n",
      "  (0, 7)\t0.37867626873820165\n",
      "  (0, 9)\t0.37867626873820165\n",
      "  (1, 16)\t0.1786694534059618\n",
      "  (1, 12)\t0.23006945204561577\n",
      "  (1, 2)\t0.30251368128649075\n",
      "  (1, 3)\t0.30251368128649075\n",
      "  (1, 10)\t0.6050273625729815\n",
      "  (1, 18)\t0.30251368128649075\n",
      "  (1, 5)\t0.30251368128649075\n",
      "  (1, 1)\t0.30251368128649075\n",
      "  (1, 13)\t0.30251368128649075\n",
      "  (2, 16)\t0.4343672818844283\n",
      "  (2, 19)\t0.3677238693250534\n",
      "  (2, 11)\t0.3677238693250534\n",
      "  (2, 8)\t0.3677238693250534\n",
      "  (2, 4)\t0.3677238693250534\n",
      "  (2, 17)\t0.3677238693250534\n",
      "  (2, 15)\t0.3677238693250534\n",
      "\n"
     ]
    }
   ],
   "source": [
    "for i in tfidf_vectorizers:\n",
    "    print(i)\n",
    "    print()"
   ]
  },
  {
   "cell_type": "code",
   "execution_count": 8,
   "metadata": {},
   "outputs": [
    {
     "name": "stdout",
     "output_type": "stream",
     "text": [
      "defaultdict(<class 'int'>, {'the': 2, 'eleph': 1, 'sneez': 1, 'at': 1, 'sight': 1, 'of': 1, 'potato': 1})\n",
      "defaultdict(<class 'int'>, {'bat': 2, 'can': 1, 'see': 2, 'via': 1, 'echoloc': 1, 'the': 1, 'sight': 1, 'sneez': 1})\n",
      "defaultdict(<class 'int'>, {'wonder': 1, 'she': 1, 'open': 1, 'the': 2, 'door': 1, 'to': 1, 'studio': 1})\n"
     ]
    }
   ],
   "source": [
    "# Examine the NLTK freq version\n",
    "for i in nltk_frequency_vectorize(demo_corpus):\n",
    "    print(i)"
   ]
  },
  {
   "cell_type": "code",
   "execution_count": 9,
   "metadata": {},
   "outputs": [
    {
     "name": "stdout",
     "output_type": "stream",
     "text": [
      "[-0.00221488  0.0080274   0.04530225  0.02893117 -0.00832361]\n",
      "[-0.01775389 -0.0711211  -0.05654884  0.04532859 -0.05661348]\n",
      "[ 0.06442249 -0.0142212  -0.0999698   0.05847561 -0.0714144 ]\n"
     ]
    }
   ],
   "source": [
    "# doc2vec embeddings\n",
    "demo_out = gensim_doc2vec_vectorize(demo_corpus)\n",
    "for i in range(len(demo_out)):\n",
    "    print(demo_out[i])"
   ]
  },
  {
   "cell_type": "markdown",
   "metadata": {},
   "source": [
    "## Sklearn and visualize\n",
    "\n",
    "Examine how you'd run the `sklearn` version with more options and next steps ..."
   ]
  },
  {
   "cell_type": "code",
   "execution_count": 28,
   "metadata": {},
   "outputs": [
    {
     "name": "stdout",
     "output_type": "stream",
     "text": [
      "40 documents, 29332 features.\n",
      "CPU times: user 24.7 s, sys: 1.28 s, total: 26 s\n",
      "Wall time: 26.1 s\n"
     ]
    }
   ],
   "source": [
    "%%time\n",
    "from sklearn.feature_extraction.text import TfidfVectorizer\n",
    "\n",
    "def preproc(token):\n",
    "    \"\"\"\n",
    "    Stems and lowercases a token. Discards punctuation.\n",
    "    \"\"\"\n",
    "    stem = nltk.stem.SnowballStemmer('english')\n",
    "    if token in string.punctuation:\n",
    "        return None\n",
    "    else:\n",
    "        return stem.stem(token)\n",
    "    \n",
    "tfidf = TfidfVectorizer(\n",
    "    lowercase = True,\n",
    "    preprocessor = preproc,\n",
    "    max_df = 0.7,\n",
    "    min_df = 2,\n",
    "    use_idf = True,\n",
    ")\n",
    "vectors = tfidf.fit_transform(corpus.docs())\n",
    "print(f'{vectors.shape[0]} documents, {vectors.shape[1]} features.')"
   ]
  },
  {
   "cell_type": "code",
   "execution_count": 11,
   "metadata": {},
   "outputs": [
    {
     "name": "stdout",
     "output_type": "stream",
     "text": [
      "40 documents, 2 PCA features.\n",
      "Explained variance by component: [0.04040423 0.03629584]\n"
     ]
    }
   ],
   "source": [
    "# Reduce dimensions with PCA\n",
    "from sklearn.decomposition import PCA\n",
    "\n",
    "pca = PCA(n_components=2)\n",
    "reduced = pca.fit_transform(vectors.toarray())\n",
    "print(f'{reduced.shape[0]} documents, {reduced.shape[1]} PCA features.')\n",
    "print(\"Explained variance by component:\", pca.explained_variance_ratio_)"
   ]
  },
  {
   "cell_type": "code",
   "execution_count": 17,
   "metadata": {},
   "outputs": [
    {
     "data": {
      "image/png": "[encoded data removed]",
      "text/plain": [
       "<Figure size 864x576 with 1 Axes>"
      ]
     },
     "metadata": {
      "needs_background": "light"
     },
     "output_type": "display_data"
    }
   ],
   "source": [
    "# Plot with matplotlib and Seaborn\n",
    "%matplotlib inline\n",
    "import matplotlib.pyplot as plt\n",
    "plt.rcParams['figure.figsize'] = [12, 8]\n",
    "\n",
    "plt.scatter(reduced[:,0], reduced[:,1])\n",
    "plt.show()"
   ]
  },
  {
   "cell_type": "code",
   "execution_count": 18,
   "metadata": {},
   "outputs": [],
   "source": [
    "# Get document labels\n",
    "labels = []\n",
    "for file in corpus.fileids():\n",
    "    labels.append(corpus.categories(fileids=file))\n",
    "\n",
    "nations = [lab[0] for lab in labels]\n",
    "genders = [lab[2] for lab in labels]"
   ]
  },
  {
   "cell_type": "code",
   "execution_count": 20,
   "metadata": {},
   "outputs": [
    {
     "data": {
      "image/png": "[encoded data removed]",
      "text/plain": [
       "<Figure size 864x576 with 1 Axes>"
      ]
     },
     "metadata": {
      "needs_background": "light"
     },
     "output_type": "display_data"
    }
   ],
   "source": [
    "# Color by nation\n",
    "import seaborn as sns\n",
    "plt.rcParams['figure.figsize'] = [12, 8]\n",
    "\n",
    "sns.scatterplot(reduced[:,0], reduced[:,1], hue=nations, s=150, alpha=0.7)\n",
    "plt.xlabel(\"PC0\", size=14)\n",
    "plt.ylabel(\"PC1\", size=14)\n",
    "plt.title(\"Nations\", size=20)\n",
    "plt.show()"
   ]
  },
  {
   "cell_type": "code",
   "execution_count": 21,
   "metadata": {},
   "outputs": [
    {
     "data": {
      "image/png": "[encoded data removed]",
      "text/plain": [
       "<Figure size 864x576 with 1 Axes>"
      ]
     },
     "metadata": {
      "needs_background": "light"
     },
     "output_type": "display_data"
    }
   ],
   "source": [
    "# By author gender\n",
    "sns.scatterplot(reduced[:,0], reduced[:,1], hue=genders, s=150, alpha=0.7)\n",
    "plt.xlabel(\"PC0\", size=14)\n",
    "plt.ylabel(\"PC1\", size=14)\n",
    "plt.title(\"Gender\", size=20)\n",
    "plt.show()"
   ]
  },
  {
   "cell_type": "code",
   "execution_count": null,
   "metadata": {},
   "outputs": [],
   "source": []
  }
 ],
 "metadata": {
  "kernelspec": {
   "display_name": "Python 3",
   "language": "python",
   "name": "python3"
  },
  "language_info": {
   "codemirror_mode": {
    "name": "ipython",
    "version": 3
   },
   "file_extension": ".py",
   "mimetype": "text/x-python",
   "name": "python",
   "nbconvert_exporter": "python",
   "pygments_lexer": "ipython3",
   "version": "3.7.1"
  }
 },
 "nbformat": 4,
 "nbformat_minor": 2
}
